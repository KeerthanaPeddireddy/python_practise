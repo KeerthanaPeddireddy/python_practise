{
  "nbformat": 4,
  "nbformat_minor": 0,
  "metadata": {
    "colab": {
      "provenance": []
    },
    "kernelspec": {
      "name": "python3",
      "display_name": "Python 3"
    },
    "language_info": {
      "name": "python"
    }
  },
  "cells": [
    {
      "cell_type": "code",
      "execution_count": null,
      "metadata": {
        "id": "KNIP2eDRdfyW",
        "colab": {
          "base_uri": "https://localhost:8080/"
        },
        "outputId": "8a6f27c1-68b1-4953-a7eb-d5a1b84cb884"
      },
      "outputs": [
        {
          "output_type": "stream",
          "name": "stdout",
          "text": [
            "4\n",
            "2\n",
            "2.0\n"
          ]
        }
      ],
      "source": [
        "first = int(input())\n",
        "second = int(input())\n",
        "try:\n",
        "  z = first/second\n",
        "except ZeroDivisionError:\n",
        "  print(\"Error\")\n",
        "else:\n",
        "  print(z)"
      ]
    },
    {
      "cell_type": "markdown",
      "source": [
        "***Addition***: One common problem when prompting for numerical input occurs\n",
        "when people provide text instead of numbers. When you try to convert the input to an\n",
        "int, you’ll get a ValueError. Write a program that prompts for two numbers. Add them\n",
        "together and print the result. Catch the ValueError if either input value is not a number,\n",
        "and print a friendly error message. Test your program by entering two numbers and then\n",
        "by entering some text instead of a number.\n"
      ],
      "metadata": {
        "id": "idpOsyJHCtmn"
      }
    },
    {
      "cell_type": "code",
      "source": [
        "def addition():\n",
        "  first = input()\n",
        "  second = input()\n",
        "  try:\n",
        "    sum = int(first)+int(second)\n",
        "  except ValueError:\n",
        "    print(\"Need integer value.\")\n",
        "  else:\n",
        "    print(\"sum is :\",sum)"
      ],
      "metadata": {
        "id": "ADUXek3FCyAR"
      },
      "execution_count": null,
      "outputs": []
    },
    {
      "cell_type": "code",
      "source": [
        "addition()"
      ],
      "metadata": {
        "colab": {
          "base_uri": "https://localhost:8080/"
        },
        "id": "9QgK0tI6DgtY",
        "outputId": "b4682e0c-350f-4cac-e378-01e749435db0"
      },
      "execution_count": null,
      "outputs": [
        {
          "output_type": "stream",
          "name": "stdout",
          "text": [
            "4\n",
            "2\n",
            "sum is : 6\n"
          ]
        }
      ]
    },
    {
      "cell_type": "code",
      "source": [
        "addition()"
      ],
      "metadata": {
        "colab": {
          "base_uri": "https://localhost:8080/"
        },
        "id": "9Bzc177mDuoN",
        "outputId": "5dea3efb-10b6-498b-f44f-ad13f8effe8e"
      },
      "execution_count": null,
      "outputs": [
        {
          "output_type": "stream",
          "name": "stdout",
          "text": [
            "1\n",
            "h\n",
            "Need integer value.\n"
          ]
        }
      ]
    },
    {
      "cell_type": "markdown",
      "source": [
        "***Addition Calculator***: Wrap your code from the above exercise in a while loop so the\n",
        "user can continue entering numbers even if they make a mistake and enter text instead of\n",
        "a number"
      ],
      "metadata": {
        "id": "vbJfUCN9D2d3"
      }
    },
    {
      "cell_type": "code",
      "source": [
        "while True:\n",
        "  first = input()\n",
        "  # quits if we enter q as input\n",
        "  if first == \"q\":\n",
        "    break\n",
        "  second = input()\n",
        "  if second ==\"q\":\n",
        "    break\n",
        "  try:\n",
        "    sum = int(first)+int(second)\n",
        "  except ValueError:\n",
        "    print(\"Need integer value.\")\n",
        "  else:\n",
        "    print(\"sum is :\",sum)"
      ],
      "metadata": {
        "colab": {
          "base_uri": "https://localhost:8080/"
        },
        "id": "2s5edBXmD9cV",
        "outputId": "95479dc2-73d7-487b-89e6-b055e26298fa"
      },
      "execution_count": null,
      "outputs": [
        {
          "name": "stdout",
          "output_type": "stream",
          "text": [
            "1\n",
            "2\n",
            "sum is : 3\n",
            "q\n"
          ]
        }
      ]
    },
    {
      "cell_type": "markdown",
      "source": [
        "***Cats and Dogs***: Make two files, cats.txt and dogs.txt. Store at least three names of\n",
        "cats in the first file and three names of dogs in the second file. Write a program that tries\n",
        "to read these files and print the contents of the file to the screen. Wrap your code in a\n",
        "try-except block to catch the FileNotFound error, and print a friendly message if a file\n",
        "is missing. Move one of the files to a different location on your system, and make sure\n",
        "the code in the except block executes properly.\n"
      ],
      "metadata": {
        "id": "zpFG2zPrFP8r"
      }
    },
    {
      "cell_type": "code",
      "source": [
        "with open(\"cats.txt\",\"w\") as c, open(\"dogs.txt\",\"w\") as d:\n",
        "  c.write(\"luna,oliver,simba\\n\")\n",
        "  c.write(\"max,ace,coco\")"
      ],
      "metadata": {
        "id": "eehGuUvzIdUW"
      },
      "execution_count": null,
      "outputs": []
    },
    {
      "cell_type": "code",
      "source": [
        "try:\n",
        "  with open(\"\\contents\\cats.txt\",\"r\") as c, open(\"dogs.txt\",\"r\") as d:\n",
        "    print(c.read())\n",
        "    print(d.read())\n",
        "except FileNotFoundError:\n",
        "  print(f\"File is missing\",)"
      ],
      "metadata": {
        "colab": {
          "base_uri": "https://localhost:8080/"
        },
        "id": "kEN5BKZ0E_x4",
        "outputId": "cad543ce-4dd1-4efe-a4ac-426734f8f170"
      },
      "execution_count": null,
      "outputs": [
        {
          "output_type": "stream",
          "name": "stdout",
          "text": [
            "File is missing\n"
          ]
        }
      ]
    },
    {
      "cell_type": "markdown",
      "source": [
        "***Silent Cats and Dogs***: Modify your except block in above exercise to fail silently\n",
        "if either file is missing."
      ],
      "metadata": {
        "id": "8q1v_GCsI527"
      }
    },
    {
      "cell_type": "code",
      "source": [
        "try:\n",
        "  with open(\"\\contents\\cats.txt\",\"r\") as c, open(\"dogs.txt\",\"r\") as d:\n",
        "    print(c.read())\n",
        "    print(d.read())\n",
        "except FileNotFoundError:\n",
        "  pass"
      ],
      "metadata": {
        "id": "kSpeydwlJCQj"
      },
      "execution_count": null,
      "outputs": []
    },
    {
      "cell_type": "markdown",
      "source": [
        "**Sample Input**\n",
        "\n",
        "    3\n",
        "    1 0\n",
        "    2 $\n",
        "    3 1\n",
        "\n",
        "**Sample Output**\n",
        "\n",
        "    Error Code: integer division or modulo by zero\n",
        "    Error Code: invalid literal for int() with base 10: '$'\n",
        "    3\n"
      ],
      "metadata": {
        "id": "Z1I8Tl0LI0m7"
      }
    },
    {
      "cell_type": "code",
      "source": [
        "n = int(input())\n",
        "for _ in range(n):\n",
        "    try:\n",
        "        a,b = input().split(' ')\n",
        "        z = int(a)//int(b)\n",
        "    except Exception as e:\n",
        "        print(\"Error Code:\",e)\n",
        "    else:\n",
        "        print(int(z))"
      ],
      "metadata": {
        "colab": {
          "base_uri": "https://localhost:8080/"
        },
        "id": "AztCG_xAJzob",
        "outputId": "e9da6f75-3da2-4caf-ab4f-88666d447bb9"
      },
      "execution_count": 4,
      "outputs": [
        {
          "output_type": "stream",
          "name": "stdout",
          "text": [
            "1\n",
            "s 4\n",
            "Error Code: invalid literal for int() with base 10: 's'\n"
          ]
        }
      ]
    },
    {
      "cell_type": "code",
      "source": [],
      "metadata": {
        "id": "KNEGJlhFJYU1"
      },
      "execution_count": null,
      "outputs": []
    }
  ]
}