{
  "nbformat": 4,
  "nbformat_minor": 0,
  "metadata": {
    "colab": {
      "provenance": []
    },
    "kernelspec": {
      "name": "python3",
      "display_name": "Python 3"
    },
    "language_info": {
      "name": "python"
    }
  },
  "cells": [
    {
      "cell_type": "markdown",
      "source": [
        "*Write a program that reads a file and writes out a new file with the lines in reversed order (i.e. the first line in the old file becomes the last one in the new file.)*"
      ],
      "metadata": {
        "id": "9zrzrG-HoKgk"
      }
    },
    {
      "cell_type": "code",
      "source": [
        "input_1 = open(\"input_1.txt\",\"w\")\n",
        "input_1.write(\"I am working on file handling.\\n\")\n",
        "input_1.write(\"One day I will become a datascientist.\\n\")\n",
        "input_1.write(\"I am the data scientist.\\n\")\n",
        "input_1.close()"
      ],
      "metadata": {
        "id": "O-aeL4Zz0ta8"
      },
      "execution_count": 79,
      "outputs": []
    },
    {
      "cell_type": "code",
      "source": [
        "input_1 = open(\"input_1.txt\",\"r\")\n",
        "list_1 = input_1.readlines()\n",
        "list_1.reverse()\n",
        "output_1 = open(\"output_1.txt\",\"w\")\n",
        "for v in list_1:\n",
        "  output_1.write(v)\n",
        "output_1.close()"
      ],
      "metadata": {
        "id": "xK7VuG-e1Mgs"
      },
      "execution_count": null,
      "outputs": []
    },
    {
      "cell_type": "markdown",
      "source": [
        "*Write a program that reads a file and prints only those lines that contain the substring snake.*"
      ],
      "metadata": {
        "id": "GZVy4aShoXR-"
      }
    },
    {
      "cell_type": "code",
      "source": [
        "input_2 = open(\"input_2.txt\",\"w\")\n",
        "input_2.write(\"i am snake\\n\")\n",
        "input_2.write(\"i am a data scientist\\n\")\n",
        "input_2.write(\"i love Snakes\")\n",
        "input_2.close()"
      ],
      "metadata": {
        "id": "2SL2b1_37Ek6"
      },
      "execution_count": null,
      "outputs": []
    },
    {
      "cell_type": "code",
      "source": [
        "input_2 = open(\"input_2.txt\")\n",
        "list_2 = input_2.readlines()\n",
        "input_2.close()\n",
        "output_2 = open(\"output_2.txt\",\"w\")\n",
        "for v in list_2:\n",
        "  if 'snake' in v.lower():\n",
        "    output_2.write(v)\n",
        "output_2.close()"
      ],
      "metadata": {
        "id": "zXjVXKINBVA9"
      },
      "execution_count": null,
      "outputs": []
    },
    {
      "cell_type": "markdown",
      "source": [
        "*Write a program that reads a text file and produces an output file which is a copy of the file, except the first five columns of each line contain a four digit line number, followed by a space. Start numbering the first line in the output file at 1. Ensure that every line number is formatted to the same width in the output file. Use one of your Python programs as test data for this exercise: your output should be a printed and numbered listing of the Python program.*"
      ],
      "metadata": {
        "id": "9-HOsc1Iofes"
      }
    },
    {
      "cell_type": "code",
      "source": [
        "input_3 = open(\"input_3.txt\", \"w\")\n",
        "input_3.write(\"dog, [snake, dog], cat\\n\")\n",
        "input_3.write(\"cat\\n\")\n",
        "input_3.write(\"dog\\n\")\n",
        "input_3.write(\"snake\")\n",
        "input_3.close()"
      ],
      "metadata": {
        "id": "2oX1lWNCLB6z"
      },
      "execution_count": null,
      "outputs": []
    },
    {
      "cell_type": "code",
      "source": [
        "input_3 = open(\"input_3.txt\")\n",
        "list_3 = input_3.readlines()\n",
        "output_3 = open(\"output_3.txt\",\"w\")\n",
        "i = 1\n",
        "for v in list_3:\n",
        "  output_3.write(str(i) + str(\" \")  + v)\n",
        "  i+=1\n",
        "output_3.close()"
      ],
      "metadata": {
        "id": "q4BWwb0jLGig"
      },
      "execution_count": null,
      "outputs": []
    },
    {
      "cell_type": "markdown",
      "source": [
        "*Write a program that undoes the numbering of the previous exercise: it should read a file with numbered lines and produce another file without line numbers.*\n",
        "\n"
      ],
      "metadata": {
        "id": "Ndk4MJhLomqk"
      }
    },
    {
      "cell_type": "code",
      "source": [
        "input_4 = open(\"output_3.txt\")\n",
        "list_4 = input_4.readlines()\n",
        "output_4 = open(\"output_4.txt\",\"w\")\n",
        "for v in list_4:\n",
        "  v = list(v.split(\" \"))\n",
        "  v.remove(v[0])\n",
        "  v = \" \".join(v)\n",
        "  output_4.write(v)\n",
        "output_4.close()"
      ],
      "metadata": {
        "id": "vaRNpPJNYdB-"
      },
      "execution_count": null,
      "outputs": []
    },
    {
      "cell_type": "markdown",
      "source": [
        "poem.txt contains famous poem \"Road not taken\" by poet Robert Frost. You have to read this file in your python program and find out words with maximum occurance."
      ],
      "metadata": {
        "id": "vXtPt_qHfg3g"
      }
    },
    {
      "cell_type": "code",
      "source": [
        "with open(\"poem.txt\",\"w\") as f:\n",
        "  f.write(\"\"\"Two roads diverged in a yellow wood,\n",
        "And sorry I could not travel both\n",
        "And be one traveler, long I stood\n",
        "And looked down one as far as I could\n",
        "To where it bent in the undergrowth;\n",
        "\n",
        "Then took the other, as just as fair,\n",
        "And having perhaps the better claim,\n",
        "Because it was grassy and wanted wear;\n",
        "Though as for that the passing there\n",
        "Had worn them really about the same,\n",
        "\n",
        "And both that morning equally lay\n",
        "In leaves no step had trodden black.\n",
        "Oh, I kept the first for another day!\n",
        "Yet knowing how way leads on to way,\n",
        "I doubted if I should ever come back.\n",
        "\n",
        "I shall be telling this with a sigh\n",
        "Somewhere ages and ages hence:\n",
        "Two roads diverged in a wood, and I—\n",
        "I took the one less traveled by,\n",
        "And that has made all the difference.\"\"\")"
      ],
      "metadata": {
        "id": "fZdVaMWnfgV1"
      },
      "execution_count": 35,
      "outputs": []
    },
    {
      "cell_type": "code",
      "source": [
        "stats ={}\n",
        "with open(\"poem.txt\",\"r\") as f:\n",
        "  for lines in f:\n",
        "    words = lines.split(' ')\n",
        "    for word in words:\n",
        "      if word in stats:\n",
        "        stats[word]+=1\n",
        "      else:\n",
        "        stats[word] = 1\n",
        "count = stats.values()\n",
        "max_count = max(count)\n",
        "# max_count\n",
        "for word,count in stats.items():\n",
        "  if count == max_count:\n",
        "    print(word)"
      ],
      "metadata": {
        "colab": {
          "base_uri": "https://localhost:8080/"
        },
        "id": "YtUVGbvjs0R5",
        "outputId": "4de1ba50-b565-4520-ab61-ce461d694066"
      },
      "execution_count": 59,
      "outputs": [
        {
          "output_type": "stream",
          "name": "stdout",
          "text": [
            "I\n",
            "the\n"
          ]
        }
      ]
    },
    {
      "cell_type": "markdown",
      "source": [
        "stocks.csv contains stock price, earnings per share and book value. You are writing a stock market application that will process this file and create a new file with financial metrics such as pe ratio and price to book ratio. These are calculated as,\n",
        "pe ratio = price / earnings per share\n",
        "price to book ratio = price / book value\n"
      ],
      "metadata": {
        "id": "CTwLkJUOvxiD"
      }
    },
    {
      "cell_type": "code",
      "source": [
        "import pandas as pd\n",
        "df = pd.DataFrame({\"Company Name\":[\"Reliance\",\"Tata Steel\",\"Infosys\",\"Axis Bank\",\"Bajaj Finance\"],\n",
        "                   \"Price\" : [1467,391,650,739,4044],\n",
        "                   \"Earning Per Share\" : [66,89,35,19,69],\n",
        "                   \"Book Value\": [653,572,147,263,341]})"
      ],
      "metadata": {
        "id": "DXD6n1rdvymm"
      },
      "execution_count": 64,
      "outputs": []
    },
    {
      "cell_type": "code",
      "source": [
        "df.to_csv(\"stocks.csv\",index = False)"
      ],
      "metadata": {
        "id": "LKSRfKbFxscP"
      },
      "execution_count": 66,
      "outputs": []
    },
    {
      "cell_type": "code",
      "source": [
        "df"
      ],
      "metadata": {
        "colab": {
          "base_uri": "https://localhost:8080/",
          "height": 206
        },
        "id": "qhUfWW2Jysvk",
        "outputId": "defb44a7-e356-4a44-942f-f7add9ca9af2"
      },
      "execution_count": 67,
      "outputs": [
        {
          "output_type": "execute_result",
          "data": {
            "text/plain": [
              "    Company Name  Price  Earning Per Share  Book Value\n",
              "0       Reliance   1467                 66         653\n",
              "1     Tata Steel    391                 89         572\n",
              "2        Infosys    650                 35         147\n",
              "3      Axis Bank    739                 19         263\n",
              "4  Bajaj Finance   4044                 69         341"
            ],
            "text/html": [
              "\n",
              "\n",
              "  <div id=\"df-c10abf2e-787a-4af2-a9d8-27641af55f91\">\n",
              "    <div class=\"colab-df-container\">\n",
              "      <div>\n",
              "<style scoped>\n",
              "    .dataframe tbody tr th:only-of-type {\n",
              "        vertical-align: middle;\n",
              "    }\n",
              "\n",
              "    .dataframe tbody tr th {\n",
              "        vertical-align: top;\n",
              "    }\n",
              "\n",
              "    .dataframe thead th {\n",
              "        text-align: right;\n",
              "    }\n",
              "</style>\n",
              "<table border=\"1\" class=\"dataframe\">\n",
              "  <thead>\n",
              "    <tr style=\"text-align: right;\">\n",
              "      <th></th>\n",
              "      <th>Company Name</th>\n",
              "      <th>Price</th>\n",
              "      <th>Earning Per Share</th>\n",
              "      <th>Book Value</th>\n",
              "    </tr>\n",
              "  </thead>\n",
              "  <tbody>\n",
              "    <tr>\n",
              "      <th>0</th>\n",
              "      <td>Reliance</td>\n",
              "      <td>1467</td>\n",
              "      <td>66</td>\n",
              "      <td>653</td>\n",
              "    </tr>\n",
              "    <tr>\n",
              "      <th>1</th>\n",
              "      <td>Tata Steel</td>\n",
              "      <td>391</td>\n",
              "      <td>89</td>\n",
              "      <td>572</td>\n",
              "    </tr>\n",
              "    <tr>\n",
              "      <th>2</th>\n",
              "      <td>Infosys</td>\n",
              "      <td>650</td>\n",
              "      <td>35</td>\n",
              "      <td>147</td>\n",
              "    </tr>\n",
              "    <tr>\n",
              "      <th>3</th>\n",
              "      <td>Axis Bank</td>\n",
              "      <td>739</td>\n",
              "      <td>19</td>\n",
              "      <td>263</td>\n",
              "    </tr>\n",
              "    <tr>\n",
              "      <th>4</th>\n",
              "      <td>Bajaj Finance</td>\n",
              "      <td>4044</td>\n",
              "      <td>69</td>\n",
              "      <td>341</td>\n",
              "    </tr>\n",
              "  </tbody>\n",
              "</table>\n",
              "</div>\n",
              "      <button class=\"colab-df-convert\" onclick=\"convertToInteractive('df-c10abf2e-787a-4af2-a9d8-27641af55f91')\"\n",
              "              title=\"Convert this dataframe to an interactive table.\"\n",
              "              style=\"display:none;\">\n",
              "\n",
              "  <svg xmlns=\"http://www.w3.org/2000/svg\" height=\"24px\"viewBox=\"0 0 24 24\"\n",
              "       width=\"24px\">\n",
              "    <path d=\"M0 0h24v24H0V0z\" fill=\"none\"/>\n",
              "    <path d=\"M18.56 5.44l.94 2.06.94-2.06 2.06-.94-2.06-.94-.94-2.06-.94 2.06-2.06.94zm-11 1L8.5 8.5l.94-2.06 2.06-.94-2.06-.94L8.5 2.5l-.94 2.06-2.06.94zm10 10l.94 2.06.94-2.06 2.06-.94-2.06-.94-.94-2.06-.94 2.06-2.06.94z\"/><path d=\"M17.41 7.96l-1.37-1.37c-.4-.4-.92-.59-1.43-.59-.52 0-1.04.2-1.43.59L10.3 9.45l-7.72 7.72c-.78.78-.78 2.05 0 2.83L4 21.41c.39.39.9.59 1.41.59.51 0 1.02-.2 1.41-.59l7.78-7.78 2.81-2.81c.8-.78.8-2.07 0-2.86zM5.41 20L4 18.59l7.72-7.72 1.47 1.35L5.41 20z\"/>\n",
              "  </svg>\n",
              "      </button>\n",
              "\n",
              "\n",
              "\n",
              "    <div id=\"df-12809b9c-6ab2-4d7f-a857-ba193bcd9901\">\n",
              "      <button class=\"colab-df-quickchart\" onclick=\"quickchart('df-12809b9c-6ab2-4d7f-a857-ba193bcd9901')\"\n",
              "              title=\"Suggest charts.\"\n",
              "              style=\"display:none;\">\n",
              "\n",
              "<svg xmlns=\"http://www.w3.org/2000/svg\" height=\"24px\"viewBox=\"0 0 24 24\"\n",
              "     width=\"24px\">\n",
              "    <g>\n",
              "        <path d=\"M19 3H5c-1.1 0-2 .9-2 2v14c0 1.1.9 2 2 2h14c1.1 0 2-.9 2-2V5c0-1.1-.9-2-2-2zM9 17H7v-7h2v7zm4 0h-2V7h2v10zm4 0h-2v-4h2v4z\"/>\n",
              "    </g>\n",
              "</svg>\n",
              "      </button>\n",
              "    </div>\n",
              "\n",
              "<style>\n",
              "  .colab-df-quickchart {\n",
              "    background-color: #E8F0FE;\n",
              "    border: none;\n",
              "    border-radius: 50%;\n",
              "    cursor: pointer;\n",
              "    display: none;\n",
              "    fill: #1967D2;\n",
              "    height: 32px;\n",
              "    padding: 0 0 0 0;\n",
              "    width: 32px;\n",
              "  }\n",
              "\n",
              "  .colab-df-quickchart:hover {\n",
              "    background-color: #E2EBFA;\n",
              "    box-shadow: 0px 1px 2px rgba(60, 64, 67, 0.3), 0px 1px 3px 1px rgba(60, 64, 67, 0.15);\n",
              "    fill: #174EA6;\n",
              "  }\n",
              "\n",
              "  [theme=dark] .colab-df-quickchart {\n",
              "    background-color: #3B4455;\n",
              "    fill: #D2E3FC;\n",
              "  }\n",
              "\n",
              "  [theme=dark] .colab-df-quickchart:hover {\n",
              "    background-color: #434B5C;\n",
              "    box-shadow: 0px 1px 3px 1px rgba(0, 0, 0, 0.15);\n",
              "    filter: drop-shadow(0px 1px 2px rgba(0, 0, 0, 0.3));\n",
              "    fill: #FFFFFF;\n",
              "  }\n",
              "</style>\n",
              "\n",
              "    <script>\n",
              "      async function quickchart(key) {\n",
              "        const containerElement = document.querySelector('#' + key);\n",
              "        const charts = await google.colab.kernel.invokeFunction(\n",
              "            'suggestCharts', [key], {});\n",
              "      }\n",
              "    </script>\n",
              "\n",
              "      <script>\n",
              "\n",
              "function displayQuickchartButton(domScope) {\n",
              "  let quickchartButtonEl =\n",
              "    domScope.querySelector('#df-12809b9c-6ab2-4d7f-a857-ba193bcd9901 button.colab-df-quickchart');\n",
              "  quickchartButtonEl.style.display =\n",
              "    google.colab.kernel.accessAllowed ? 'block' : 'none';\n",
              "}\n",
              "\n",
              "        displayQuickchartButton(document);\n",
              "      </script>\n",
              "      <style>\n",
              "    .colab-df-container {\n",
              "      display:flex;\n",
              "      flex-wrap:wrap;\n",
              "      gap: 12px;\n",
              "    }\n",
              "\n",
              "    .colab-df-convert {\n",
              "      background-color: #E8F0FE;\n",
              "      border: none;\n",
              "      border-radius: 50%;\n",
              "      cursor: pointer;\n",
              "      display: none;\n",
              "      fill: #1967D2;\n",
              "      height: 32px;\n",
              "      padding: 0 0 0 0;\n",
              "      width: 32px;\n",
              "    }\n",
              "\n",
              "    .colab-df-convert:hover {\n",
              "      background-color: #E2EBFA;\n",
              "      box-shadow: 0px 1px 2px rgba(60, 64, 67, 0.3), 0px 1px 3px 1px rgba(60, 64, 67, 0.15);\n",
              "      fill: #174EA6;\n",
              "    }\n",
              "\n",
              "    [theme=dark] .colab-df-convert {\n",
              "      background-color: #3B4455;\n",
              "      fill: #D2E3FC;\n",
              "    }\n",
              "\n",
              "    [theme=dark] .colab-df-convert:hover {\n",
              "      background-color: #434B5C;\n",
              "      box-shadow: 0px 1px 3px 1px rgba(0, 0, 0, 0.15);\n",
              "      filter: drop-shadow(0px 1px 2px rgba(0, 0, 0, 0.3));\n",
              "      fill: #FFFFFF;\n",
              "    }\n",
              "  </style>\n",
              "\n",
              "      <script>\n",
              "        const buttonEl =\n",
              "          document.querySelector('#df-c10abf2e-787a-4af2-a9d8-27641af55f91 button.colab-df-convert');\n",
              "        buttonEl.style.display =\n",
              "          google.colab.kernel.accessAllowed ? 'block' : 'none';\n",
              "\n",
              "        async function convertToInteractive(key) {\n",
              "          const element = document.querySelector('#df-c10abf2e-787a-4af2-a9d8-27641af55f91');\n",
              "          const dataTable =\n",
              "            await google.colab.kernel.invokeFunction('convertToInteractive',\n",
              "                                                     [key], {});\n",
              "          if (!dataTable) return;\n",
              "\n",
              "          const docLinkHtml = 'Like what you see? Visit the ' +\n",
              "            '<a target=\"_blank\" href=https://colab.research.google.com/notebooks/data_table.ipynb>data table notebook</a>'\n",
              "            + ' to learn more about interactive tables.';\n",
              "          element.innerHTML = '';\n",
              "          dataTable['output_type'] = 'display_data';\n",
              "          await google.colab.output.renderOutput(dataTable, element);\n",
              "          const docLink = document.createElement('div');\n",
              "          docLink.innerHTML = docLinkHtml;\n",
              "          element.appendChild(docLink);\n",
              "        }\n",
              "      </script>\n",
              "    </div>\n",
              "  </div>\n"
            ]
          },
          "metadata": {},
          "execution_count": 67
        }
      ]
    },
    {
      "cell_type": "code",
      "source": [
        "# pe ratio = price / earnings per share\n",
        "# price to book ratio = price / book value\n",
        "\n",
        "with open(\"stocks.csv\",\"r\") as f, open(\"out.csv\",\"w\") as o:\n",
        "  o.write(\"Company Name,PE Ratio, PB Ratio\\n\")\n",
        "  next(f)\n",
        "  for line in f:\n",
        "    tokens = line.split(\",\")\n",
        "    stock = tokens[0]\n",
        "    price = float(tokens[1])\n",
        "    eps = float(tokens[2])\n",
        "    bv = float(tokens[3])\n",
        "    per = round(price/eps,2)\n",
        "    pbr = round(price/bv,2)\n",
        "    o.write(f\"{stock},{per},{pbr}\\n\")"
      ],
      "metadata": {
        "id": "piwcoz9eyk1N"
      },
      "execution_count": 78,
      "outputs": []
    }
  ]
}