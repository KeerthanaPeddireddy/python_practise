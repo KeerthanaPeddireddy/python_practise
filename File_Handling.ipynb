{
  "nbformat": 4,
  "nbformat_minor": 0,
  "metadata": {
    "colab": {
      "provenance": []
    },
    "kernelspec": {
      "name": "python3",
      "display_name": "Python 3"
    },
    "language_info": {
      "name": "python"
    }
  },
  "cells": [
    {
      "cell_type": "markdown",
      "source": [
        "*Write a program that reads a file and writes out a new file with the lines in reversed order (i.e. the first line in the old file becomes the last one in the new file.)*"
      ],
      "metadata": {
        "id": "9zrzrG-HoKgk"
      }
    },
    {
      "cell_type": "code",
      "source": [
        "input_1 = open(\"input_1.txt\",\"w\")\n",
        "input_1.write(\"I am working on file handling.\\n\")\n",
        "input_1.write(\"One day I will become a datascientist.\\n\")\n",
        "input_1.write(\"I am the data scientist.\\n\")\n",
        "input_1.close()"
      ],
      "metadata": {
        "id": "O-aeL4Zz0ta8"
      },
      "execution_count": null,
      "outputs": []
    },
    {
      "cell_type": "code",
      "source": [
        "input_1 = open(\"input_1.txt\",\"r\")\n",
        "list_1 = input_1.readlines()\n",
        "list_1.reverse()\n",
        "output_1 = open(\"output_1.txt\",\"w\")\n",
        "for v in list_1:\n",
        "  output_1.write(v)\n",
        "output_1.close()"
      ],
      "metadata": {
        "id": "xK7VuG-e1Mgs"
      },
      "execution_count": null,
      "outputs": []
    },
    {
      "cell_type": "markdown",
      "source": [
        "*Write a program that reads a file and prints only those lines that contain the substring snake.*"
      ],
      "metadata": {
        "id": "GZVy4aShoXR-"
      }
    },
    {
      "cell_type": "code",
      "source": [
        "input_2 = open(\"input_2.txt\",\"w\")\n",
        "input_2.write(\"i am snake\\n\")\n",
        "input_2.write(\"i am a data scientist\\n\")\n",
        "input_2.write(\"i love Snakes\")\n",
        "input_2.close()"
      ],
      "metadata": {
        "id": "2SL2b1_37Ek6"
      },
      "execution_count": null,
      "outputs": []
    },
    {
      "cell_type": "code",
      "source": [
        "input_2 = open(\"input_2.txt\")\n",
        "list_2 = input_2.readlines()\n",
        "input_2.close()\n",
        "output_2 = open(\"output_2.txt\",\"w\")\n",
        "for v in list_2:\n",
        "  if 'snake' in v.lower():\n",
        "    output_2.write(v)\n",
        "output_2.close()"
      ],
      "metadata": {
        "id": "zXjVXKINBVA9"
      },
      "execution_count": null,
      "outputs": []
    },
    {
      "cell_type": "markdown",
      "source": [
        "*Write a program that reads a text file and produces an output file which is a copy of the file, except the first five columns of each line contain a four digit line number, followed by a space. Start numbering the first line in the output file at 1. Ensure that every line number is formatted to the same width in the output file. Use one of your Python programs as test data for this exercise: your output should be a printed and numbered listing of the Python program.*"
      ],
      "metadata": {
        "id": "9-HOsc1Iofes"
      }
    },
    {
      "cell_type": "code",
      "source": [
        "input_3 = open(\"input_3.txt\", \"w\")\n",
        "input_3.write(\"dog, [snake, dog], cat\\n\")\n",
        "input_3.write(\"cat\\n\")\n",
        "input_3.write(\"dog\\n\")\n",
        "input_3.write(\"snake\")\n",
        "input_3.close()"
      ],
      "metadata": {
        "id": "2oX1lWNCLB6z"
      },
      "execution_count": null,
      "outputs": []
    },
    {
      "cell_type": "code",
      "source": [
        "input_3 = open(\"input_3.txt\")\n",
        "list_3 = input_3.readlines()\n",
        "output_3 = open(\"output_3.txt\",\"w\")\n",
        "i = 1\n",
        "for v in list_3:\n",
        "  output_3.write(str(i) + str(\" \")  + v)\n",
        "  i+=1\n",
        "output_3.close()"
      ],
      "metadata": {
        "id": "q4BWwb0jLGig"
      },
      "execution_count": null,
      "outputs": []
    },
    {
      "cell_type": "markdown",
      "source": [
        "*Write a program that undoes the numbering of the previous exercise: it should read a file with numbered lines and produce another file without line numbers.*\n",
        "\n"
      ],
      "metadata": {
        "id": "Ndk4MJhLomqk"
      }
    },
    {
      "cell_type": "code",
      "source": [
        "input_4 = open(\"output_3.txt\")\n",
        "list_4 = input_4.readlines()\n",
        "output_4 = open(\"output_4.txt\",\"w\")\n",
        "for v in list_4:\n",
        "  v = list(v.split(\" \"))\n",
        "  v.remove(v[0])\n",
        "  v = \" \".join(v)\n",
        "  output_4.write(v)\n",
        "output_4.close()"
      ],
      "metadata": {
        "id": "vaRNpPJNYdB-"
      },
      "execution_count": null,
      "outputs": []
    }
  ]
}